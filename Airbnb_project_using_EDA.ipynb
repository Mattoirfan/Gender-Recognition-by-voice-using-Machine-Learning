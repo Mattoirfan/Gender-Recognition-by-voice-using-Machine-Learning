{
  "nbformat": 4,
  "nbformat_minor": 0,
  "metadata": {
    "colab": {
      "private_outputs": true,
      "provenance": [],
      "collapsed_sections": [
        "vncDsAP0Gaoa",
        "FJNUwmbgGyua",
        "w6K7xa23Elo4",
        "yQaldy8SH6Dl",
        "mDgbUHAGgjLW",
        "O_i_v8NEhb9l",
        "HhfV-JJviCcP",
        "Y3lxredqlCYt",
        "3RnN4peoiCZX",
        "x71ZqKXriCWQ",
        "7hBIi_osiCS2",
        "JlHwYmJAmNHm",
        "35m5QtbWiB9F",
        "PoPl-ycgm1ru",
        "H0kj-8xxnORC",
        "nA9Y7ga8ng1Z",
        "PBTbrJXOngz2",
        "u3PMJOP6ngxN",
        "dauF4eBmngu3",
        "bKJF3rekwFvQ",
        "MSa1f5Uengrz",
        "GF8Ens_Soomf",
        "0wOQAZs5pc--",
        "K5QZ13OEpz2H",
        "lQ7QKXXCp7Bj",
        "448CDAPjqfQr",
        "KSlN3yHqYklG",
        "t6dVpIINYklI",
        "ijmpgYnKYklI",
        "-JiQyfWJYklI",
        "EM7whBJCYoAo",
        "fge-S5ZAYoAp",
        "85gYPyotYoAp",
        "RoGjAbkUYoAp",
        "4Of9eVA-YrdM",
        "iky9q4vBYrdO",
        "F6T5p64dYrdO",
        "y-Ehk30pYrdP",
        "bamQiAODYuh1",
        "QHF8YVU7Yuh3",
        "GwzvFGzlYuh3",
        "qYpmQ266Yuh3",
        "OH-pJp9IphqM",
        "bbFf2-_FphqN",
        "_ouA3fa0phqN",
        "Seke61FWphqN",
        "PIIx-8_IphqN",
        "t27r6nlMphqO",
        "r2jJGEOYphqO",
        "b0JNsNcRphqO",
        "BZR9WyysphqO",
        "jj7wYXLtphqO",
        "eZrbJ2SmphqO",
        "rFu4xreNphqO",
        "YJ55k-q6phqO",
        "gCFgpxoyphqP",
        "OVtJsKN_phqQ",
        "lssrdh5qphqQ",
        "U2RJ9gkRphqQ",
        "1M8mcRywphqQ",
        "tgIPom80phqQ",
        "JMzcOPDDphqR",
        "x-EpHcCOp1ci",
        "X_VqEhTip1ck",
        "8zGJKyg5p1ck",
        "PVzmfK_Ep1ck",
        "n3dbpmDWp1ck",
        "ylSl6qgtp1ck",
        "ZWILFDl5p1ck",
        "M7G43BXep1ck",
        "Ag9LCva-p1cl",
        "E6MkPsBcp1cl",
        "2cELzS2fp1cl",
        "3MPXvC8up1cl",
        "NC_X3p0fY2L0",
        "UV0SzAkaZNRQ",
        "YPEH6qLeZNRQ",
        "q29F0dvdveiT",
        "EXh0U9oCveiU",
        "22aHeOlLveiV",
        "g-ATYxFrGrvw",
        "Yfr_Vlr8HBkt",
        "8yEUt7NnHlrM",
        "tEA2Xm5dHt1r",
        "I79__PHVH19G",
        "Ou-I18pAyIpj",
        "fF3858GYyt-u",
        "4_0_7-oCpUZd",
        "hwyV_J3ipUZe",
        "3yB-zSqbpUZe",
        "dEUvejAfpUZe",
        "Fd15vwWVpUZf",
        "bn_IUdTipZyH",
        "49K5P_iCpZyH",
        "Nff-vKELpZyI",
        "kLW572S8pZyI",
        "dWbDXHzopZyI",
        "yLjJCtPM0KBk",
        "xiyOF9F70UgQ",
        "7wuGOrhz0itI",
        "id1riN9m0vUs",
        "578E2V7j08f6",
        "89xtkJwZ18nB",
        "67NQN5KX2AMe",
        "Iwf50b-R2tYG",
        "GMQiZwjn3iu7",
        "WVIkgGqN3qsr",
        "XkPnILGE3zoT",
        "Hlsf0x5436Go",
        "mT9DMSJo4nBL",
        "c49ITxTc407N",
        "OeJFEK0N496M",
        "9ExmJH0g5HBk",
        "cJNqERVU536h",
        "k5UmGsbsOxih",
        "T0VqWOYE6DLQ",
        "qBMux9mC6MCf",
        "-oLEiFgy-5Pf",
        "C74aWNz2AliB",
        "2DejudWSA-a0",
        "pEMng2IbBLp7",
        "rAdphbQ9Bhjc",
        "TNVZ9zx19K6k",
        "nqoHp30x9hH9",
        "rMDnDkt2B6du",
        "yiiVWRdJDDil",
        "1UUpS68QDMuG",
        "kexQrXU-DjzY",
        "T5CmagL3EC8N",
        "BhH2vgX9EjGr",
        "qjKvONjwE8ra",
        "P1XJ9OREExlT",
        "VFOzZv6IFROw",
        "TIqpNgepFxVj",
        "VfCC591jGiD4",
        "OB4l2ZhMeS1U",
        "ArJBuiUVfxKd",
        "4qY1EAkEfxKe",
        "PiV4Ypx8fxKe",
        "TfvqoZmBfxKf",
        "dJ2tPlVmpsJ0",
        "JWYfwnehpsJ1",
        "-jK_YjpMpsJ2",
        "HAih1iBOpsJ2",
        "zVGeBEFhpsJ2",
        "bmKjuQ-FpsJ3",
        "Fze-IPXLpx6K",
        "7AN1z2sKpx6M",
        "9PIHJqyupx6M",
        "_-qAgymDpx6N",
        "Z-hykwinpx6N",
        "h_CCil-SKHpo",
        "cBFFvTBNJzUa",
        "HvGl1hHyA_VK",
        "EyNgTHvd2WFk",
        "KH5McJBi2d8v",
        "iW_Lq9qf2h6X",
        "-Kee-DAl2viO",
        "gCX9965dhzqZ",
        "gIfDvo9L0UH2"
      ],
      "include_colab_link": true
    },
    "kernelspec": {
      "name": "python3",
      "display_name": "Python 3"
    },
    "language_info": {
      "name": "python"
    }
  },
  "cells": [
    {
      "cell_type": "markdown",
      "metadata": {
        "id": "view-in-github",
        "colab_type": "text"
      },
      "source": [
        "<a href=\"https://colab.research.google.com/github/Mattoirfan/Gender-Recognition-by-voice-using-Machine-Learning/blob/main/Airbnb_project_using_EDA.ipynb\" target=\"_parent\"><img src=\"https://colab.research.google.com/assets/colab-badge.svg\" alt=\"Open In Colab\"/></a>"
      ]
    },
    {
      "cell_type": "markdown",
      "source": [
        "# **Project Name**    -Airbnb\n",
        "\n"
      ],
      "metadata": {
        "id": "vncDsAP0Gaoa"
      }
    },
    {
      "cell_type": "markdown",
      "source": [
        "# ##### **Project Type**    - exploratory data analysis/EDA\n",
        " **Contribution**    - **Individual**\n",
        " ##### **Team Member \":   Irfan Ali Matto"
      ],
      "metadata": {
        "id": "beRrZCGUAJYm"
      }
    },
    {
      "cell_type": "markdown",
      "source": [
        "## project **summary**"
      ],
      "metadata": {
        "id": "MrW8L_JpZuHe"
      }
    },
    {
      "cell_type": "markdown",
      "source": [
        "### Airbnb is an online marketplace and hospitality platform that enables people to rent out their properties or spare rooms to travelers seeking accommodation.\n",
        "### The concept of Airbnb is centered around connecting hosts and guests, allowing travelers to find unique and affordable accommodations in various destinations worldwide. The platform provides a user-friendly interface where hosts can create listings, including detailed descriptions, photos, and pricing information for their properties. Guests can then browse these listings, read reviews from previous visitors, and make bookings directly through the Airbnb website or mobile app\n",
        "### **One of the key features of Airbnb is its emphasis on offering diverse and distinctive lodging options. From traditional houses and apartments to unconventional spaces like treehouses, yurts, and boats, Airbnb caters to a wide range of preferences and budgets. This aspect has contributed to its popularity among travelers seeking more personalized and immersive experiences**"
      ],
      "metadata": {
        "id": "FJNUwmbgGyua"
      }
    },
    {
      "cell_type": "markdown",
      "source": [
        "# **GitHub Link -**"
      ],
      "metadata": {
        "id": "w6K7xa23Elo4"
      }
    },
    {
      "cell_type": "markdown",
      "source": [
        "Provide your GitHub Link here.\n",
        "\n",
        "> Indented block\n",
        "\n",
        "> Indented block\n",
        "\n",
        "\n",
        "\n"
      ],
      "metadata": {
        "id": "h1o69JH3Eqqn"
      }
    },
    {
      "cell_type": "markdown",
      "source": [
        "# **Problem Statement**\n"
      ],
      "metadata": {
        "id": "yQaldy8SH6Dl"
      }
    },
    {
      "cell_type": "markdown",
      "source": [
        "## Since 2008 guest and hosts used airbnb to expand on travelling  possibilities and present a more unique personalized way of experiencing the world.Today Airbnb become one of a kind service that is used and recignize by the whole world. Data analysis on millions of listing provided through airbnb is a crucial factor for the company. These millions of generating the lot of data - data that can be analyzed and used for security business discussion, understanding the custommers and providers (host) behaviour and performance on the guiding marketing initiatives. Implementation on innovative additional services and much more. This dataset has arround 49000 observations in it with 16 columns and it is a mix of categorical and numerical values.  Explore and analyze the data  to discover key understandings."
      ],
      "metadata": {
        "id": "DpeJGUA3kjGy"
      }
    },
    {
      "cell_type": "markdown",
      "source": [
        "# **Understanding the datasets**\n",
        "```"
      ],
      "metadata": {
        "id": "Ahd8XETS28H5"
      }
    },
    {
      "cell_type": "markdown",
      "source": [
        "\n",
        "\n",
        "\n",
        "### > Id  :     Unique id\n",
        "\n",
        "## > Name : Name of the listing\n",
        "\n",
        "## > Host_id : unique host id\n",
        "\n",
        "## > Host_name : name of the host\n",
        "\n",
        "## > Neighbourhood_group  :location\n",
        "\n",
        "## > neighbourhood : area\n",
        "\n",
        "## > latitude :  latitude range\n",
        "\n",
        "## > longitude  : longitude range\n",
        "\n",
        "## > room_type   :    types of rooms\n",
        "\n",
        "## > price  :  price of listing\n",
        "\n",
        "## > minimum_nights   :   minimum nights to be paid for\n",
        "\n",
        "## > Number_of_reviews  :   number of reviews\n",
        "\n",
        "## > Last_reviews  :   content of the last review\n",
        "\n",
        "## > review_per_month  :   number of checks per month\n",
        "\n",
        "## > calculate_host_listing_count  :   total count\n",
        "\n",
        "## > availability_365   : available round the year\n",
        "\n",
        "\n",
        "\n",
        "\n",
        "\n",
        "\n",
        "\n",
        "\n",
        "\n",
        "\n",
        "\n"
      ],
      "metadata": {
        "id": "AthCEPmpwZXX"
      }
    },
    {
      "cell_type": "markdown",
      "source": [
        "# ***Let's Begin !***"
      ],
      "metadata": {
        "id": "O_i_v8NEhb9l"
      }
    },
    {
      "cell_type": "markdown",
      "source": [
        "## ***1. Know Your Data***"
      ],
      "metadata": {
        "id": "HhfV-JJviCcP"
      }
    },
    {
      "cell_type": "markdown",
      "source": [
        "### Import Libraries"
      ],
      "metadata": {
        "id": "Y3lxredqlCYt"
      }
    },
    {
      "cell_type": "code",
      "source": [
        "# Import Libraries\n",
        "import numpy as np\n",
        "import pandas as pd\n",
        "import seaborn as sns\n",
        "import matplotlib.pyplot as plt\n",
        "%matplotlib inline\n",
        "plt.rcParams['figure.figsize'] = (10, 7)"
      ],
      "metadata": {
        "id": "M8Vqi-pPk-HR"
      },
      "execution_count": null,
      "outputs": []
    },
    {
      "cell_type": "markdown",
      "source": [
        "### Dataset Loading"
      ],
      "metadata": {
        "id": "3RnN4peoiCZX"
      }
    },
    {
      "cell_type": "code",
      "source": [
        "from google.colab import drive\n",
        "drive.mount('/content/drive')"
      ],
      "metadata": {
        "id": "7fPZhKcHkoLP"
      },
      "execution_count": null,
      "outputs": []
    },
    {
      "cell_type": "code",
      "source": [
        "# Load Dataset\n",
        "df=pd.read_csv('/content/Airbnb NYC 2019.csv')"
      ],
      "metadata": {
        "id": "4CkvbW_SlZ_R"
      },
      "execution_count": null,
      "outputs": []
    },
    {
      "cell_type": "markdown",
      "source": [
        "### Dataset First View"
      ],
      "metadata": {
        "id": "x71ZqKXriCWQ"
      }
    },
    {
      "cell_type": "code",
      "source": [
        "# Dataset First Look\n",
        "df.head()"
      ],
      "metadata": {
        "id": "LWNFOSvLl09H"
      },
      "execution_count": null,
      "outputs": []
    },
    {
      "cell_type": "code",
      "source": [
        "#view datasets on tail\n",
        "df.tail()"
      ],
      "metadata": {
        "id": "Huccm8_rl4kV"
      },
      "execution_count": null,
      "outputs": []
    },
    {
      "cell_type": "markdown",
      "source": [
        "### Dataset Rows & Columns count"
      ],
      "metadata": {
        "id": "7hBIi_osiCS2"
      }
    },
    {
      "cell_type": "code",
      "source": [
        "# Dataset Rows & Columns count\n",
        "df.shape"
      ],
      "metadata": {
        "id": "Kllu7SJgmLij"
      },
      "execution_count": null,
      "outputs": []
    },
    {
      "cell_type": "markdown",
      "source": [
        "### Dataset Information"
      ],
      "metadata": {
        "id": "JlHwYmJAmNHm"
      }
    },
    {
      "cell_type": "code",
      "source": [
        "# Dataset Info\n",
        "df.info()"
      ],
      "metadata": {
        "id": "e9hRXRi6meOf"
      },
      "execution_count": null,
      "outputs": []
    },
    {
      "cell_type": "markdown",
      "source": [
        "#### Duplicate Values"
      ],
      "metadata": {
        "id": "35m5QtbWiB9F"
      }
    },
    {
      "cell_type": "code",
      "source": [
        "# Dataset Duplicate Value Count\n",
        "df.duplicated().sum()"
      ],
      "metadata": {
        "id": "1sLdpKYkmox0"
      },
      "execution_count": null,
      "outputs": []
    },
    {
      "cell_type": "markdown",
      "source": [
        "#### Missing Values/Null Values"
      ],
      "metadata": {
        "id": "PoPl-ycgm1ru"
      }
    },
    {
      "cell_type": "code",
      "source": [
        "# Missing Values/Null Values Count\n",
        "df.isnull().sum()"
      ],
      "metadata": {
        "id": "GgHWkxvamxVg"
      },
      "execution_count": null,
      "outputs": []
    },
    {
      "cell_type": "code",
      "source": [
        "# Visualizing the missing values\n",
        "pd.set_option('display.max_rows', None)\n",
        "plt.figure(figsize=(12,10))\n",
        "sns.heatmap(df.isnull(), cbar=False)\n",
        "plt.show()"
      ],
      "metadata": {
        "id": "3q5wnI3om9sJ"
      },
      "execution_count": null,
      "outputs": []
    },
    {
      "cell_type": "markdown",
      "source": [
        "## ***2. Understanding Your Variables***"
      ],
      "metadata": {
        "id": "nA9Y7ga8ng1Z"
      }
    },
    {
      "cell_type": "code",
      "source": [
        "# Dataset Columns\n",
        "df.columns"
      ],
      "metadata": {
        "id": "j7xfkqrt5Ag5"
      },
      "execution_count": null,
      "outputs": []
    },
    {
      "cell_type": "code",
      "source": [
        "# Dataset Describe\n",
        "df.describe()"
      ],
      "metadata": {
        "id": "DnOaZdaE5Q5t"
      },
      "execution_count": null,
      "outputs": []
    },
    {
      "cell_type": "markdown",
      "source": [
        "### Variables Description"
      ],
      "metadata": {
        "id": "PBTbrJXOngz2"
      }
    },
    {
      "cell_type": "markdown",
      "source": [
        "in this datasets we have 16 columns and we have48895 rows\n",
        "columns  : ['id', 'name', 'host_id', 'host_name', 'neighbourhood_group',\n",
        "       'neighbourhood', 'latitude', 'longitude', 'room_type', 'price',\n",
        "       'minimum_nights', 'number_of_reviews', 'last_review',\n",
        "       'reviews_per_month', 'calculated_host_listings_count',\n",
        "       'availability_365'],\n",
        "some of columns  are like neighborhood_group is location where the customers are visited and sisimilarly room_type and other columns"
      ],
      "metadata": {
        "id": "aJV4KIxSnxay"
      }
    },
    {
      "cell_type": "markdown",
      "source": [
        "## 3. ***Data Wrangling***"
      ],
      "metadata": {
        "id": "dauF4eBmngu3"
      }
    },
    {
      "cell_type": "markdown",
      "source": [
        "### Data Wrangling Code"
      ],
      "metadata": {
        "id": "bKJF3rekwFvQ"
      }
    },
    {
      "cell_type": "code",
      "source": [
        "# Write your code to make your dataset analysi\n",
        "df.duplicated().sum()\n",
        "df.drop_duplicates(inplace=True)\n",
        "df.isnull().sum()"
      ],
      "metadata": {
        "id": "wk-9a2fpoLcV"
      },
      "execution_count": null,
      "outputs": []
    },
    {
      "cell_type": "code",
      "source": [
        "#remove all the null and duplicate values from the dataset\n",
        "df.dropna(inplace=True)\n",
        "df.isnull().sum()"
      ],
      "metadata": {
        "id": "QEWcgYgLqVNe"
      },
      "execution_count": null,
      "outputs": []
    },
    {
      "cell_type": "code",
      "source": [
        "\n",
        "#remove unnecessary columns from datasets\n",
        "df.drop(['id', 'name','latitude', 'longitude','last_review'],inplace=True,axis=1)\n",
        "df.head()"
      ],
      "metadata": {
        "id": "jS55fS8PtY4m"
      },
      "execution_count": null,
      "outputs": []
    },
    {
      "cell_type": "code",
      "source": [
        "#after removing some columns i will use describe function to getting the statistical values\n",
        "df.describe()"
      ],
      "metadata": {
        "id": "1pnTPSS0tt02"
      },
      "execution_count": null,
      "outputs": []
    },
    {
      "cell_type": "markdown",
      "source": [
        "### What all manipulations have you done and insights you found?"
      ],
      "metadata": {
        "id": "MSa1f5Uengrz"
      }
    },
    {
      "cell_type": "markdown",
      "source": [
        " first i did sum of all null values and i plot a heatmap for visualize and theen i drop all the null and duplicated values from the datasets i removed some unnecessary columns from the datasets"
      ],
      "metadata": {
        "id": "LbyXE7I1olp8"
      }
    },
    {
      "cell_type": "markdown",
      "source": [
        "## ***4. Data Vizualization, Storytelling & Experimenting with charts : Understand the relationships between variables***"
      ],
      "metadata": {
        "id": "GF8Ens_Soomf"
      }
    },
    {
      "cell_type": "markdown",
      "source": [
        "#1 What is the average price of room and at which location has the average price"
      ],
      "metadata": {
        "id": "T-eRz4Y-wvFf"
      }
    },
    {
      "cell_type": "markdown",
      "source": [
        "#### Chart - 1 barplot"
      ],
      "metadata": {
        "id": "0wOQAZs5pc--"
      }
    },
    {
      "cell_type": "code",
      "source": [
        "# Chart - 1 visualization code\n",
        "#types of rooms\n",
        "room_type=df['room_type'].unique()\n",
        "room_type"
      ],
      "metadata": {
        "id": "7v_ESjsspbW7"
      },
      "execution_count": null,
      "outputs": []
    },
    {
      "cell_type": "code",
      "source": [
        "#what is the average prefered price by customer according to the location\n",
        "avg_price=df.groupby(['neighbourhood_group','room_type'],as_index=False)[ 'price'].mean().rename(columns={'neighbourhood_group':'location', 'price':'avg_price'})"
      ],
      "metadata": {
        "id": "ddmxUOGDxZeu"
      },
      "execution_count": null,
      "outputs": []
    },
    {
      "cell_type": "code",
      "source": [
        "avg_price"
      ],
      "metadata": {
        "id": "3v4CDu4ryCuf"
      },
      "execution_count": null,
      "outputs": []
    },
    {
      "cell_type": "code",
      "source": [
        "avg_price=df.groupby(['neighbourhood_group','room_type'])['price'].mean().unstack()"
      ],
      "metadata": {
        "id": "KJQ1EkyrySNX"
      },
      "execution_count": null,
      "outputs": []
    },
    {
      "cell_type": "code",
      "source": [
        "avg_price"
      ],
      "metadata": {
        "id": "AsdwTo4MyfgO"
      },
      "execution_count": null,
      "outputs": []
    },
    {
      "cell_type": "code",
      "source": [
        "#implement the barplot\n",
        "avg_price.plot.bar()"
      ],
      "metadata": {
        "id": "KXe5lYwMylp3"
      },
      "execution_count": null,
      "outputs": []
    },
    {
      "cell_type": "markdown",
      "source": [],
      "metadata": {
        "id": "diuFs7NH79fy"
      }
    },
    {
      "cell_type": "markdown",
      "source": [
        "## the average price of the  manhattan is above 200 the room type is entire hom or **apt**"
      ],
      "metadata": {
        "id": "XESiWehPqBRc"
      }
    },
    {
      "cell_type": "markdown",
      "source": [
        "## 2 #Which of the  Most popular location to spent the nights"
      ],
      "metadata": {
        "id": "ZonKlP6PzqRa"
      }
    },
    {
      "cell_type": "markdown",
      "source": [
        "#### Chart - 2"
      ],
      "metadata": {
        "id": "KSlN3yHqYklG"
      }
    },
    {
      "cell_type": "code",
      "source": [
        "# Chart - 2 visualization code\n",
        "nights_spent= df.groupby('neighbourhood_group',as_index=False)['minimum_nights'].sum().reset_index().rename(columns={'neighbourhood_group':'location'})"
      ],
      "metadata": {
        "id": "R4YgtaqtYklH"
      },
      "execution_count": null,
      "outputs": []
    },
    {
      "cell_type": "code",
      "source": [
        "nights_spent"
      ],
      "metadata": {
        "id": "0vcwuhGL0QOe"
      },
      "execution_count": null,
      "outputs": []
    },
    {
      "cell_type": "code",
      "source": [
        "#Implement the Barplot\n",
        "sns.set(rc={'figure.figsize':(10,5)})\n",
        "sns.set_style('white')\n",
        "a=sns.barplot(x='location',y='minimum_nights',data=nights_spent)\n",
        "a.set_title('maximum nights spent at locations',weight='bold')\n",
        "a.set_ylabel('minimum_nights',weight='bold')\n",
        "a.set_xlabel('location',weight='bold')\n",
        "a.set_xticklabels(a.get_xticklabels(),weight='bold',rotation=45,size='15')"
      ],
      "metadata": {
        "id": "c9gAnL_v10S3"
      },
      "execution_count": null,
      "outputs": []
    },
    {
      "cell_type": "markdown",
      "source": [
        "# [manhattan is the most popular place where the most customers are spending there nights]\n",
        "\n",
        "## > brooklyn is the second destination where the customers are prefered to spent their nights\n",
        "\n"
      ],
      "metadata": {
        "id": "FQg59dsT8o3E"
      }
    },
    {
      "cell_type": "markdown",
      "source": [
        "#### Chart - 3"
      ],
      "metadata": {
        "id": "EM7whBJCYoAo"
      }
    },
    {
      "cell_type": "markdown",
      "source": [
        "##3  find the most prefered room  by the customers to spend their nights"
      ],
      "metadata": {
        "id": "gsifhk2mQKZD"
      }
    },
    {
      "cell_type": "code",
      "source": [
        "# Chart - 3 visualization code\n",
        "#find the total types of rooms\n",
        "df['room_type'].unique()"
      ],
      "metadata": {
        "id": "t6GMdE67YoAp"
      },
      "execution_count": null,
      "outputs": []
    },
    {
      "cell_type": "code",
      "source": [
        "#which rooms is mostly prefered\n",
        "prefered_rooms=df.groupby('room_type')['minimum_nights'].sum().reset_index()\n",
        "prefered=prefered_rooms.sort_values('minimum_nights',ascending=True)\n",
        "prefered"
      ],
      "metadata": {
        "id": "cMz9o_fxRHI8"
      },
      "execution_count": null,
      "outputs": []
    },
    {
      "cell_type": "code",
      "source": [
        "#create datasets\n",
        "labels=list(prefered['room_type'])\n",
        "#choose the size\n",
        "sizes=list(prefered['minimum_nights'])\n",
        "#choose the colors\n",
        "colors=['red','green','orange']\n",
        "# create explode\n",
        "explode = (0.07, 0.07, 0.07)"
      ],
      "metadata": {
        "id": "ifPIiIYiRH7M"
      },
      "execution_count": null,
      "outputs": []
    },
    {
      "cell_type": "code",
      "source": [
        "#creating pie chart\n",
        "plt.pie(sizes,explode=explode,labels=labels,colors=colors,autopct='%1.1f%%',shadow=True)\n",
        "plt.title('most prefered rooms',fontsize=20)\n",
        "plt.axis('equal')\n",
        "plt.show()"
      ],
      "metadata": {
        "id": "vrmU_HDoRi3E"
      },
      "execution_count": null,
      "outputs": []
    },
    {
      "cell_type": "markdown",
      "source": [
        "# [The most customers prefered the 'Entire home/aprt' which is arround 63.2%]\n",
        "\n",
        "# > The second preference for the customers  is to private rooms which is around 35%\n",
        "\n",
        "## > which means the customer does not mostly sharing rooms\n",
        "\n"
      ],
      "metadata": {
        "id": "ppzOHt0E9Ufh"
      }
    },
    {
      "cell_type": "markdown",
      "source": [
        "#### Chart - 4"
      ],
      "metadata": {
        "id": "4Of9eVA-YrdM"
      }
    },
    {
      "cell_type": "markdown",
      "source": [
        "# 4  reviews given by the customer for location"
      ],
      "metadata": {
        "id": "hdt3EmzxR6pE"
      }
    },
    {
      "cell_type": "code",
      "source": [
        "# Chart - 4 visualization code\n",
        "best_location=df.groupby( 'neighbourhood_group',as_index=False)[ 'number_of_reviews'].sum().reset_index().rename(columns={'neighbourhood_group':'location'})\n",
        "max_reviews=best_location.sort_values(['number_of_reviews'],ascending=False)\n",
        "max_reviews"
      ],
      "metadata": {
        "id": "irlUoxc8YrdO"
      },
      "execution_count": null,
      "outputs": []
    },
    {
      "cell_type": "code",
      "source": [
        "#implement the bar graph\n",
        "sns.set(rc={'figure.figsize':(10,5)})\n",
        "sns.set_style('darkgrid')\n",
        "a=sns.barplot(x='location',y='number_of_reviews',data=max_reviews)\n",
        "a.set_title('best location reviews')\n",
        "a.set_ylabel('location',weight='bold')\n",
        "a.set_xlabel('number_of_reviews',weight='bold')\n",
        "a.set_xticklabels(a.get_xticklabels(),rotation=45,size='15')"
      ],
      "metadata": {
        "id": "AhS_j3ObSQFU"
      },
      "execution_count": null,
      "outputs": []
    },
    {
      "cell_type": "markdown",
      "source": [
        "## Brooklyn has the highest number of reviews  so it means the customers mostly gives the best  reviews"
      ],
      "metadata": {
        "id": "ywFZMmnG-ZBJ"
      }
    },
    {
      "cell_type": "markdown",
      "source": [
        "#### Chart - 5"
      ],
      "metadata": {
        "id": "bamQiAODYuh1"
      }
    },
    {
      "cell_type": "markdown",
      "source": [
        "# 5  which location has the highest price"
      ],
      "metadata": {
        "id": "HHz3r8t9Strk"
      }
    },
    {
      "cell_type": "code",
      "source": [
        "# Chart - 5 visualization code\n",
        "prices=df.groupby('neighbourhood_group',as_index=False)['price'].mean().reset_index().rename(columns={'neighbourhood_group':'location'})\n",
        "highest_price=prices.sort_values(['price'],ascending=False)\n",
        "highest_price"
      ],
      "metadata": {
        "id": "TIJwrbroYuh3"
      },
      "execution_count": null,
      "outputs": []
    },
    {
      "cell_type": "code",
      "source": [
        "#create datasets\n",
        "labels=list(highest_price['location'])\n",
        "#choose the size\n",
        "sizes=list(highest_price['price'])\n",
        "#choose the colors\n",
        "colors=['orange','skyblue','red','green','yellow']\n",
        "#create the explodes\n",
        "explode=(0.07,0.07,0.07,0.07,0.07)"
      ],
      "metadata": {
        "id": "BZweO39rTMsk"
      },
      "execution_count": null,
      "outputs": []
    },
    {
      "cell_type": "code",
      "source": [
        "#implement the pie chart\n",
        "plt.pie(sizes,explode=explode,labels=labels,colors=colors,autopct='%1.1f%%',shadow=True)\n",
        "plt.title('highest price of location',fontsize=(20))\n",
        "plt.axis('equal')\n",
        "plt.show()"
      ],
      "metadata": {
        "id": "jYP324LwTYmU"
      },
      "execution_count": null,
      "outputs": []
    },
    {
      "cell_type": "markdown",
      "source": [
        "## Brooklyn has the highest number of reviews  so it means the customers mostly gives the best  reviews"
      ],
      "metadata": {
        "id": "LuvVA9nG-s4p"
      }
    },
    {
      "cell_type": "markdown",
      "source": [
        "#### Chart - 6"
      ],
      "metadata": {
        "id": "OH-pJp9IphqM"
      }
    },
    {
      "cell_type": "markdown",
      "source": [
        "## 6 What is the relationship between neighborhood groups and availability of rooms"
      ],
      "metadata": {
        "id": "UOr44nm1T1i8"
      }
    },
    {
      "cell_type": "code",
      "source": [
        "# Chart - 6 visualization code\n",
        "plt.figure(figsize=(10,10))\n",
        "sns.set_style('white')\n",
        "\n",
        "ax = sns.boxplot(data=df, x='neighbourhood_group',y='availability_365',palette='plasma')\n",
        "\n",
        "# Naming the Chart\n",
        "ax.set_title('Relation between Neighbourhood group & Availability of rooms').set_fontsize('15')\n",
        "\n",
        "# Naming X & Y axis\n",
        "ax.set_ylabel('Availability 365 Days').set_fontsize('15')\n",
        "ax.set_xlabel('Neighbourhood Group').set_fontsize('15')\n",
        "\n",
        "#Adjusting Bar labels\n",
        "ax.set_xticklabels(ax.get_xticklabels(), size = '15')"
      ],
      "metadata": {
        "id": "kuRf4wtuphqN"
      },
      "execution_count": null,
      "outputs": []
    },
    {
      "cell_type": "markdown",
      "source": [
        "## Staten island has the highest nnumber of rooms which are available"
      ],
      "metadata": {
        "id": "CKs2mp5Z-6Sg"
      }
    },
    {
      "cell_type": "markdown",
      "source": [
        "#### Chart - 7"
      ],
      "metadata": {
        "id": "PIIx-8_IphqN"
      }
    },
    {
      "cell_type": "markdown",
      "source": [
        "## 7 :  Where the customer pays the highest and lowest rent according to location"
      ],
      "metadata": {
        "id": "nmySII2Uhkdt"
      }
    },
    {
      "cell_type": "code",
      "source": [
        "# Chart - 7 visualization code\n",
        "#first we will remove those rows which has the 0 price  so will drop the zero value rows by using drop function\n",
        "price_drop=df.drop(df[df['price']==0].index,inplace=True)"
      ],
      "metadata": {
        "id": "lqAIGUfyphqO"
      },
      "execution_count": null,
      "outputs": []
    },
    {
      "cell_type": "code",
      "source": [
        "#to check the  price column weather those values are removed r not\n",
        "df.price.min()"
      ],
      "metadata": {
        "id": "XFDTJRp6iO_V"
      },
      "execution_count": null,
      "outputs": []
    },
    {
      "cell_type": "code",
      "source": [
        "max_price= df.groupby('neighbourhood_group',as_index=False)['price'].max().sort_values(['price'],ascending=False).rename(columns={ 'neighbourhood_group':'location','price':'max_price'})\n",
        "max_price"
      ],
      "metadata": {
        "id": "_QRcbvYliQD9"
      },
      "execution_count": null,
      "outputs": []
    },
    {
      "cell_type": "code",
      "source": [
        "min_price= df.groupby('neighbourhood_group',as_index=False)['price'].min().sort_values(['price'],ascending=True).rename(columns={ 'neighbourhood_group':'location','price':'min_price'})\n",
        "min_price"
      ],
      "metadata": {
        "id": "2TTbvI5tiRpU"
      },
      "execution_count": null,
      "outputs": []
    },
    {
      "cell_type": "code",
      "source": [
        "merge_prices=pd.merge(max_price,min_price,on='location')\n",
        "merge_prices"
      ],
      "metadata": {
        "id": "Wp-W2yOwiSXk"
      },
      "execution_count": null,
      "outputs": []
    },
    {
      "cell_type": "code",
      "source": [
        "#Create a copy of merge price dataframe\n",
        "merge_prices_copy = merge_prices.copy()"
      ],
      "metadata": {
        "id": "C7TH7QZgiS-U"
      },
      "execution_count": null,
      "outputs": []
    },
    {
      "cell_type": "code",
      "source": [
        "#Create a function for log transformation of maximum price and minimum price\n",
        "def log_values(values):\n",
        "  #'''This function takes a price value as a input and give it's log values'''\n",
        "  new_max_price = np.log2(values)\n",
        "  return new_max_price"
      ],
      "metadata": {
        "id": "JO7ye9PTjF5N"
      },
      "execution_count": null,
      "outputs": []
    },
    {
      "cell_type": "code",
      "source": [
        "merge_prices_copy['max_price'] = merge_prices_copy.apply(lambda x: log_values(x['max_price']), axis=1)\n",
        "merge_prices_copy['min_price'] = merge_prices_copy.apply(lambda x: log_values(x['min_price']), axis=1)"
      ],
      "metadata": {
        "id": "YofKBNWijGkk"
      },
      "execution_count": null,
      "outputs": []
    },
    {
      "cell_type": "code",
      "source": [
        "merge_prices_copy"
      ],
      "metadata": {
        "id": "P6mRefcojHGV"
      },
      "execution_count": null,
      "outputs": []
    },
    {
      "cell_type": "code",
      "source": [
        "#Bar graph for display maximum price and minimum price according to location\n",
        "merge_prices_copy.plot(x=\"location\", y=['max_price','min_price'], kind=\"bar\")\n",
        "plt.legend(labels = ['max_price','min_price'])\n",
        "plt.title('Maximum and minimum price according to location')"
      ],
      "metadata": {
        "id": "YbZ304I5jcoF"
      },
      "execution_count": null,
      "outputs": []
    },
    {
      "cell_type": "markdown",
      "source": [
        "# **according to the graph we have seen clearly that the  [Brooklyn , Queens and Manhattan ] has the same price which means the customer pays the highest prices in those places which means those places are demanded places**\n",
        "# [Broonx ,Staten island ] are not the demandaed places which i have mentioned above"
      ],
      "metadata": {
        "id": "gJ-OqUF2_UWB"
      }
    },
    {
      "cell_type": "markdown",
      "source": [
        "#### Chart - 8"
      ],
      "metadata": {
        "id": "YJ55k-q6phqO"
      }
    },
    {
      "cell_type": "markdown",
      "source": [
        "# No. of active host per location (Where most of the host focused to own property)"
      ],
      "metadata": {
        "id": "Fop7_b4gaWqz"
      }
    },
    {
      "cell_type": "code",
      "source": [
        "# Chart - 9 visualization code\n",
        "#Apply group by operation on neighbourhood_group for find the number of host according to location\n",
        "no_of_host_per_location =df.groupby('neighbourhood_group',as_index=False)['host_id'].count().sort_values(['host_id'], ascending=False).rename(columns={'neighbourhood_group':'Location','host_id':'Host'})\n",
        "no_of_host_per_location"
      ],
      "metadata": {
        "id": "B2aS4O1ophqO"
      },
      "execution_count": null,
      "outputs": []
    },
    {
      "cell_type": "code",
      "source": [
        "#Take a simple format of above question without index for plot the line chart\n",
        "no_of_host_per_location =df.groupby('neighbourhood_group')['host_id'].count()\n",
        "no_of_host_per_location"
      ],
      "metadata": {
        "id": "iO9xreBna3rZ"
      },
      "execution_count": null,
      "outputs": []
    },
    {
      "cell_type": "code",
      "source": [
        "#Graph\n",
        "plt.legend(labels = ['No. of Host'])\n",
        "plt.plot(no_of_host_per_location)\n",
        "plt.title('Number of host per location')\n",
        "plt.ylabel('Host')\n",
        "plt.xlabel('Location')"
      ],
      "metadata": {
        "id": "WVbwbYMba59G"
      },
      "execution_count": null,
      "outputs": []
    },
    {
      "cell_type": "markdown",
      "source": [
        "# Manhattan  is the place where the number of hosts are active  and grow their businesses"
      ],
      "metadata": {
        "id": "D9hlsGLD_krw"
      }
    },
    {
      "cell_type": "markdown",
      "source": [
        "#### Chart - 9"
      ],
      "metadata": {
        "id": "U2RJ9gkRphqQ"
      }
    },
    {
      "cell_type": "markdown",
      "source": [
        "# Most Popular/demanded host of Airbnb in New york"
      ],
      "metadata": {
        "id": "3QDggyRCoc1R"
      }
    },
    {
      "cell_type": "code",
      "source": [
        "# Chart - 10 visualization code\n",
        "review_host=df.groupby(['host_id','host_name'],as_index=False)['number_of_reviews'].sum().sort_values(['number_of_reviews'],ascending=False)\n",
        "review_host"
      ],
      "metadata": {
        "id": "GM7a4YP4phqQ"
      },
      "execution_count": null,
      "outputs": []
    },
    {
      "cell_type": "code",
      "source": [
        "availability=df.groupby(['host_id','host_name'],as_index=False)['availability_365'].sum().sort_values(['availability_365'],ascending=True)\n",
        "availability"
      ],
      "metadata": {
        "id": "bMpGSuzGntpB"
      },
      "execution_count": null,
      "outputs": []
    },
    {
      "cell_type": "code",
      "source": [
        "#Merge two dataframe based on number of reviews and availability in a year\n",
        "popular_host= pd.merge(review_host,availability,on = ['host_id','host_name']).sort_values(['availability_365','number_of_reviews'],ascending = [True,False]).rename(columns = {'number_of_reviews':'Number of reviews','availability_365':'Availability in a year'})\n",
        "popular_host"
      ],
      "metadata": {
        "id": "lTxdUvwHnup5"
      },
      "execution_count": null,
      "outputs": []
    },
    {
      "cell_type": "code",
      "source": [
        "#Merge two dataframe based on number of reviews and availability in a year\n",
        "popular_host= pd.merge(review_host,availability,on = ['host_id','host_name']).sort_values(['availability_365','number_of_reviews'],ascending = [True,False]).rename(columns = {'number_of_reviews':'Number of reviews','availability_365':'Availability in a year'})\n",
        "popular_host"
      ],
      "metadata": {
        "id": "na4SrKDrnveB"
      },
      "execution_count": null,
      "outputs": []
    },
    {
      "cell_type": "code",
      "source": [
        "#Create scatter plot based on number of reviews and availability in a year\n",
        "popular_host.plot.scatter(x='Number of reviews', y='Availability in a year', xlim=(100,1000),ylim=(10,380));"
      ],
      "metadata": {
        "id": "bdjtpYLDoFrx"
      },
      "execution_count": null,
      "outputs": []
    },
    {
      "cell_type": "markdown",
      "source": [
        "#### Chart - 10"
      ],
      "metadata": {
        "id": "x-EpHcCOp1ci"
      }
    },
    {
      "cell_type": "markdown",
      "source": [
        "# Top ten Highest listing neighourhood"
      ],
      "metadata": {
        "id": "fQAofDQ64vZY"
      }
    },
    {
      "cell_type": "code",
      "source": [
        "# Chart - 11 visualization code\n",
        "# find listing value of all neighourhood in dataset\n",
        "neighour=df.neighbourhood.value_counts().sort_values(ascending=False).reset_index()\n",
        "#top ten neighourhood with listing value\n",
        "top_10=neighour[:10]\n",
        "top_10\n",
        "\n",
        "#m.rename(columns={'index': 'newName1', 'neighourhood': 'newName2'}, inplace=True)"
      ],
      "metadata": {
        "id": "mAQTIvtqp1cj"
      },
      "execution_count": null,
      "outputs": []
    },
    {
      "cell_type": "code",
      "source": [
        "#make copy of top_10\n",
        "final_10=top_10.copy()\n",
        "#rename that dataframe\n",
        "final_10.rename(columns={'index':'neighourhood','neighbourhood':'listing_value' },inplace=True)\n",
        "\n",
        "final_10"
      ],
      "metadata": {
        "id": "7OrwRrEl5Sn9"
      },
      "execution_count": null,
      "outputs": []
    },
    {
      "cell_type": "code",
      "source": [
        "# data visualizing with barplot\n",
        "sns.set(rc={'figure.figsize':(15,10)})\n",
        "sns.set_style('white')\n",
        "#Plotting the Chart\n",
        "abc= sns.barplot(x='neighourhood', y='listing_value',data = final_10)\n",
        "abc.set_title('find total no. nights spend per location')\n",
        "# Naming X & Y axis\n",
        "abc.set_ylabel('listing value')\n",
        "abc.set_xlabel('neighourhood')\n",
        "#Adjusting Bar labels\n",
        "\n",
        "abc.set_xticklabels(abc.get_xticklabels(),rotation = 45,size='15')"
      ],
      "metadata": {
        "id": "dH5jswaL5UDP"
      },
      "execution_count": null,
      "outputs": []
    },
    {
      "cell_type": "markdown",
      "source": [
        "#### Chart - 11"
      ],
      "metadata": {
        "id": "n3dbpmDWp1ck"
      }
    },
    {
      "cell_type": "markdown",
      "source": [
        "# Find total no. nights spend per location"
      ],
      "metadata": {
        "id": "kz3vqV2v5nNU"
      }
    },
    {
      "cell_type": "code",
      "source": [
        "# Chart - 12 visualization code\n",
        "#  find the maximum(minimum nights) spending by customer across different neighourhood group\n",
        "nights=df.groupby('neighbourhood_group')['minimum_nights'].sum().reset_index()\n",
        "total_nights=nights.sort_values('minimum_nights',ascending=True)\n",
        "total_nights"
      ],
      "metadata": {
        "id": "bwevp1tKp1ck"
      },
      "execution_count": null,
      "outputs": []
    },
    {
      "cell_type": "code",
      "source": [
        "# visualization of total no. nights spend per location using seaborn\n",
        "sns.set(rc={'figure.figsize':(10,5)})\n",
        "sns.set_style('white')\n",
        "abc= sns.barplot(x='neighbourhood_group',y='minimum_nights',data = total_nights)\n",
        "abc.set_title('find total no. nights spend per location')\n",
        "abc.set_ylabel('minimum night')\n",
        "abc.set_xlabel('neighbourhood group')\n",
        "\n",
        "abc.set_xticklabels(abc.get_xticklabels(),rotation = 45,size='15')"
      ],
      "metadata": {
        "id": "tNmKuP5Y53D_"
      },
      "execution_count": null,
      "outputs": []
    },
    {
      "cell_type": "markdown",
      "source": [
        "# Manhattan is the best location  where most of the peoples are spent there nights"
      ],
      "metadata": {
        "id": "FQe98bvs6NfX"
      }
    },
    {
      "cell_type": "markdown",
      "source": [
        "# **Conclusion**"
      ],
      "metadata": {
        "id": "gCX9965dhzqZ"
      }
    },
    {
      "cell_type": "markdown",
      "source": [
        "### 1   i check the average price of room and  at which place the room is located  so i have clearly seen that the manhattan has the average price is above 200 and the room type is home/aprt\n",
        "\n",
        "## > I use  a barplot for the comparision\n",
        "\n",
        "\n",
        "# **> most people  prefered the entire home or apt **\n",
        "\n",
        "# **> most of the guests  in airbnb visited in Manhattan**\n",
        "\n",
        "# > mostly customers pay the highest price in manhattan\n",
        "\n",
        "# **> According to the data that i visualize  most of the  rooms are full which means ijf we fing the room in manhattan as a guest so it is mostly booked **\n",
        "\n",
        "# **> Most of the host are active in Manhattan **\n",
        "\n",
        "# >According to data that i visualize if we want startup a same type of business as per the  location and rooms and many more things  so i can clearly see that Manhattan is the best place for the business\n",
        "\n",
        "\n",
        "\n",
        "\n",
        "\n",
        "\n",
        "\n",
        "\n",
        "\n",
        "\n",
        "\n",
        "\n",
        "\n",
        "\n"
      ],
      "metadata": {
        "id": "Fjb1IsQkh3yE"
      }
    }
  ]
}